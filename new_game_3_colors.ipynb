{
 "cells": [
  {
   "cell_type": "markdown",
   "source": [
    "# New Game 3 Colors"
   ],
   "metadata": {}
  },
  {
   "cell_type": "code",
   "execution_count": 1,
   "source": [
    "from game import Game"
   ],
   "outputs": [],
   "metadata": {}
  },
  {
   "cell_type": "markdown",
   "source": [
    "## Keep the original settings except we changed the rewards"
   ],
   "metadata": {}
  },
  {
   "cell_type": "code",
   "execution_count": 2,
   "source": [
    "game = Game(\r\n",
    "    n_colors=3,\r\n",
    "    n_balls=24,\r\n",
    "    n_draws=12,\r\n",
    "    rewards={\r\n",
    "        '543': 1, '444': 2, '642': 4, '633': 8, \r\n",
    "        '552': 16, '732': 32, '651': 64, '741': 128, \r\n",
    "        '831': 256, '750': 512, '822': 1024, '660': 2048, '840': 4096\r\n",
    "    },\r\n",
    "    default_reward=0,\r\n",
    "    fee=20)"
   ],
   "outputs": [],
   "metadata": {}
  },
  {
   "cell_type": "markdown",
   "source": [
    "## We also adjusted the fee to keep the house edge"
   ],
   "metadata": {}
  },
  {
   "cell_type": "code",
   "execution_count": 3,
   "source": [
    "game.fee"
   ],
   "outputs": [
    {
     "output_type": "execute_result",
     "data": {
      "text/plain": [
       "20"
      ]
     },
     "metadata": {},
     "execution_count": 3
    }
   ],
   "metadata": {}
  },
  {
   "cell_type": "markdown",
   "source": [
    "## The maximum reward is much higher than the original"
   ],
   "metadata": {}
  },
  {
   "cell_type": "code",
   "execution_count": 4,
   "source": [
    "game.metrics"
   ],
   "outputs": [
    {
     "output_type": "execute_result",
     "data": {
      "text/plain": [
       "         probs  payoffs      expR\n",
       "case                             \n",
       "543   0.487072        1  0.487072\n",
       "444   0.126842        2  0.253684\n",
       "642   0.121768        4  0.487072\n",
       "633   0.097414        8  0.779316\n",
       "552   0.097414       16  1.558632\n",
       "732   0.027833       32  0.890647\n",
       "651   0.027833       64  1.781294\n",
       "741   0.009940      128  1.272353\n",
       "831   0.000994      256  0.254471\n",
       "750   0.000994      512  0.508941\n",
       "822   0.000870     1024  0.890647\n",
       "660   0.000870     2048  1.781294\n",
       "840   0.000155     4096  0.636176"
      ],
      "text/html": [
       "<div>\n",
       "<style scoped>\n",
       "    .dataframe tbody tr th:only-of-type {\n",
       "        vertical-align: middle;\n",
       "    }\n",
       "\n",
       "    .dataframe tbody tr th {\n",
       "        vertical-align: top;\n",
       "    }\n",
       "\n",
       "    .dataframe thead th {\n",
       "        text-align: right;\n",
       "    }\n",
       "</style>\n",
       "<table border=\"1\" class=\"dataframe\">\n",
       "  <thead>\n",
       "    <tr style=\"text-align: right;\">\n",
       "      <th></th>\n",
       "      <th>probs</th>\n",
       "      <th>payoffs</th>\n",
       "      <th>expR</th>\n",
       "    </tr>\n",
       "    <tr>\n",
       "      <th>case</th>\n",
       "      <th></th>\n",
       "      <th></th>\n",
       "      <th></th>\n",
       "    </tr>\n",
       "  </thead>\n",
       "  <tbody>\n",
       "    <tr>\n",
       "      <th>543</th>\n",
       "      <td>0.487072</td>\n",
       "      <td>1</td>\n",
       "      <td>0.487072</td>\n",
       "    </tr>\n",
       "    <tr>\n",
       "      <th>444</th>\n",
       "      <td>0.126842</td>\n",
       "      <td>2</td>\n",
       "      <td>0.253684</td>\n",
       "    </tr>\n",
       "    <tr>\n",
       "      <th>642</th>\n",
       "      <td>0.121768</td>\n",
       "      <td>4</td>\n",
       "      <td>0.487072</td>\n",
       "    </tr>\n",
       "    <tr>\n",
       "      <th>633</th>\n",
       "      <td>0.097414</td>\n",
       "      <td>8</td>\n",
       "      <td>0.779316</td>\n",
       "    </tr>\n",
       "    <tr>\n",
       "      <th>552</th>\n",
       "      <td>0.097414</td>\n",
       "      <td>16</td>\n",
       "      <td>1.558632</td>\n",
       "    </tr>\n",
       "    <tr>\n",
       "      <th>732</th>\n",
       "      <td>0.027833</td>\n",
       "      <td>32</td>\n",
       "      <td>0.890647</td>\n",
       "    </tr>\n",
       "    <tr>\n",
       "      <th>651</th>\n",
       "      <td>0.027833</td>\n",
       "      <td>64</td>\n",
       "      <td>1.781294</td>\n",
       "    </tr>\n",
       "    <tr>\n",
       "      <th>741</th>\n",
       "      <td>0.009940</td>\n",
       "      <td>128</td>\n",
       "      <td>1.272353</td>\n",
       "    </tr>\n",
       "    <tr>\n",
       "      <th>831</th>\n",
       "      <td>0.000994</td>\n",
       "      <td>256</td>\n",
       "      <td>0.254471</td>\n",
       "    </tr>\n",
       "    <tr>\n",
       "      <th>750</th>\n",
       "      <td>0.000994</td>\n",
       "      <td>512</td>\n",
       "      <td>0.508941</td>\n",
       "    </tr>\n",
       "    <tr>\n",
       "      <th>822</th>\n",
       "      <td>0.000870</td>\n",
       "      <td>1024</td>\n",
       "      <td>0.890647</td>\n",
       "    </tr>\n",
       "    <tr>\n",
       "      <th>660</th>\n",
       "      <td>0.000870</td>\n",
       "      <td>2048</td>\n",
       "      <td>1.781294</td>\n",
       "    </tr>\n",
       "    <tr>\n",
       "      <th>840</th>\n",
       "      <td>0.000155</td>\n",
       "      <td>4096</td>\n",
       "      <td>0.636176</td>\n",
       "    </tr>\n",
       "  </tbody>\n",
       "</table>\n",
       "</div>"
      ]
     },
     "metadata": {},
     "execution_count": 4
    }
   ],
   "metadata": {}
  },
  {
   "cell_type": "markdown",
   "source": [
    "We have removed the negative punishment case and make it pay a $1 rewards, the player will feel better since he is guaranteed to collect rewards everytime."
   ],
   "metadata": {}
  },
  {
   "cell_type": "code",
   "execution_count": 5,
   "source": [
    "game.client_expected_return"
   ],
   "outputs": [
    {
     "output_type": "execute_result",
     "data": {
      "text/plain": [
       "-8.41840189693198"
      ]
     },
     "metadata": {},
     "execution_count": 5
    }
   ],
   "metadata": {}
  },
  {
   "cell_type": "markdown",
   "source": [
    "We also increase the maximum reward for the very rare cases. This will give the player an illusion that he can win big sometimes, but in fact this happen far less likely than he can imagine."
   ],
   "metadata": {}
  },
  {
   "cell_type": "markdown",
   "source": [
    "## The new reward table is more attractive compared to the original"
   ],
   "metadata": {}
  },
  {
   "cell_type": "code",
   "execution_count": 15,
   "source": [
    "game.offer.sample(frac=1)"
   ],
   "outputs": [
    {
     "output_type": "execute_result",
     "data": {
      "text/plain": [
       "case\n",
       "552      16\n",
       "543       1\n",
       "822    1024\n",
       "732      32\n",
       "831     256\n",
       "840    4096\n",
       "444       2\n",
       "750     512\n",
       "633       8\n",
       "741     128\n",
       "660    2048\n",
       "642       4\n",
       "651      64\n",
       "Name: payoffs, dtype: int64"
      ]
     },
     "metadata": {},
     "execution_count": 15
    }
   ],
   "metadata": {}
  }
 ],
 "metadata": {
  "orig_nbformat": 4,
  "language_info": {
   "name": "python",
   "version": "3.8.8",
   "mimetype": "text/x-python",
   "codemirror_mode": {
    "name": "ipython",
    "version": 3
   },
   "pygments_lexer": "ipython3",
   "nbconvert_exporter": "python",
   "file_extension": ".py"
  },
  "kernelspec": {
   "name": "python3",
   "display_name": "Python 3.8.8 64-bit ('python388': conda)"
  },
  "interpreter": {
   "hash": "0ba3483a34865885a0972eccdeeaf9e87063fb0a49129f7cf0b171bb40b8e6cb"
  }
 },
 "nbformat": 4,
 "nbformat_minor": 2
}