{
 "cells": [
  {
   "cell_type": "markdown",
   "source": [
    "# Probability"
   ],
   "metadata": {}
  },
  {
   "cell_type": "code",
   "execution_count": 8,
   "source": [
    "import pandas as pd\r\n",
    "from original import outcomes, cal_prob"
   ],
   "outputs": [],
   "metadata": {}
  },
  {
   "cell_type": "markdown",
   "source": [
    "## Probability for each case"
   ],
   "metadata": {}
  },
  {
   "cell_type": "code",
   "execution_count": 9,
   "source": [
    "probs = pd.DataFrame({cal_prob(case) for name, case in outcomes.items()}).set_index('case')"
   ],
   "outputs": [],
   "metadata": {}
  },
  {
   "cell_type": "code",
   "execution_count": 10,
   "source": [
    "probs"
   ],
   "outputs": [
    {
     "output_type": "execute_result",
     "data": {
      "text/plain": [
       "          prob  payoff       expR\n",
       "case                             \n",
       "840   0.000155     300   0.046595\n",
       "831   0.000994     100   0.099403\n",
       "651   0.027833      10   0.278327\n",
       "822   0.000870     120   0.104373\n",
       "732   0.027833      15   0.417491\n",
       "444   0.126842       5   0.634209\n",
       "633   0.097414       5   0.487072\n",
       "660   0.000870     100   0.086977\n",
       "552   0.097414       5   0.487072\n",
       "750   0.000994      60   0.059642\n",
       "543   0.487072     -30 -14.612175\n",
       "741   0.009940      40   0.397610\n",
       "642   0.121768       5   0.608841"
      ],
      "text/html": [
       "<div>\n",
       "<style scoped>\n",
       "    .dataframe tbody tr th:only-of-type {\n",
       "        vertical-align: middle;\n",
       "    }\n",
       "\n",
       "    .dataframe tbody tr th {\n",
       "        vertical-align: top;\n",
       "    }\n",
       "\n",
       "    .dataframe thead th {\n",
       "        text-align: right;\n",
       "    }\n",
       "</style>\n",
       "<table border=\"1\" class=\"dataframe\">\n",
       "  <thead>\n",
       "    <tr style=\"text-align: right;\">\n",
       "      <th></th>\n",
       "      <th>prob</th>\n",
       "      <th>payoff</th>\n",
       "      <th>expR</th>\n",
       "    </tr>\n",
       "    <tr>\n",
       "      <th>case</th>\n",
       "      <th></th>\n",
       "      <th></th>\n",
       "      <th></th>\n",
       "    </tr>\n",
       "  </thead>\n",
       "  <tbody>\n",
       "    <tr>\n",
       "      <th>840</th>\n",
       "      <td>0.000155</td>\n",
       "      <td>300</td>\n",
       "      <td>0.046595</td>\n",
       "    </tr>\n",
       "    <tr>\n",
       "      <th>831</th>\n",
       "      <td>0.000994</td>\n",
       "      <td>100</td>\n",
       "      <td>0.099403</td>\n",
       "    </tr>\n",
       "    <tr>\n",
       "      <th>651</th>\n",
       "      <td>0.027833</td>\n",
       "      <td>10</td>\n",
       "      <td>0.278327</td>\n",
       "    </tr>\n",
       "    <tr>\n",
       "      <th>822</th>\n",
       "      <td>0.000870</td>\n",
       "      <td>120</td>\n",
       "      <td>0.104373</td>\n",
       "    </tr>\n",
       "    <tr>\n",
       "      <th>732</th>\n",
       "      <td>0.027833</td>\n",
       "      <td>15</td>\n",
       "      <td>0.417491</td>\n",
       "    </tr>\n",
       "    <tr>\n",
       "      <th>444</th>\n",
       "      <td>0.126842</td>\n",
       "      <td>5</td>\n",
       "      <td>0.634209</td>\n",
       "    </tr>\n",
       "    <tr>\n",
       "      <th>633</th>\n",
       "      <td>0.097414</td>\n",
       "      <td>5</td>\n",
       "      <td>0.487072</td>\n",
       "    </tr>\n",
       "    <tr>\n",
       "      <th>660</th>\n",
       "      <td>0.000870</td>\n",
       "      <td>100</td>\n",
       "      <td>0.086977</td>\n",
       "    </tr>\n",
       "    <tr>\n",
       "      <th>552</th>\n",
       "      <td>0.097414</td>\n",
       "      <td>5</td>\n",
       "      <td>0.487072</td>\n",
       "    </tr>\n",
       "    <tr>\n",
       "      <th>750</th>\n",
       "      <td>0.000994</td>\n",
       "      <td>60</td>\n",
       "      <td>0.059642</td>\n",
       "    </tr>\n",
       "    <tr>\n",
       "      <th>543</th>\n",
       "      <td>0.487072</td>\n",
       "      <td>-30</td>\n",
       "      <td>-14.612175</td>\n",
       "    </tr>\n",
       "    <tr>\n",
       "      <th>741</th>\n",
       "      <td>0.009940</td>\n",
       "      <td>40</td>\n",
       "      <td>0.397610</td>\n",
       "    </tr>\n",
       "    <tr>\n",
       "      <th>642</th>\n",
       "      <td>0.121768</td>\n",
       "      <td>5</td>\n",
       "      <td>0.608841</td>\n",
       "    </tr>\n",
       "  </tbody>\n",
       "</table>\n",
       "</div>"
      ]
     },
     "metadata": {},
     "execution_count": 10
    }
   ],
   "metadata": {}
  },
  {
   "cell_type": "markdown",
   "source": [
    "## Probability grouped by same reward amount"
   ],
   "metadata": {}
  },
  {
   "cell_type": "code",
   "execution_count": 11,
   "source": [
    "probs_grouped = probs.groupby('payoff').sum()"
   ],
   "outputs": [],
   "metadata": {}
  },
  {
   "cell_type": "code",
   "execution_count": 12,
   "source": [
    "probs_grouped"
   ],
   "outputs": [
    {
     "output_type": "execute_result",
     "data": {
      "text/plain": [
       "            prob       expR\n",
       "payoff                     \n",
       "-30     0.487072 -14.612175\n",
       " 5      0.443439   2.217195\n",
       " 10     0.027833   0.278327\n",
       " 15     0.027833   0.417491\n",
       " 40     0.009940   0.397610\n",
       " 60     0.000994   0.059642\n",
       " 100    0.001864   0.186380\n",
       " 120    0.000870   0.104373\n",
       " 300    0.000155   0.046595"
      ],
      "text/html": [
       "<div>\n",
       "<style scoped>\n",
       "    .dataframe tbody tr th:only-of-type {\n",
       "        vertical-align: middle;\n",
       "    }\n",
       "\n",
       "    .dataframe tbody tr th {\n",
       "        vertical-align: top;\n",
       "    }\n",
       "\n",
       "    .dataframe thead th {\n",
       "        text-align: right;\n",
       "    }\n",
       "</style>\n",
       "<table border=\"1\" class=\"dataframe\">\n",
       "  <thead>\n",
       "    <tr style=\"text-align: right;\">\n",
       "      <th></th>\n",
       "      <th>prob</th>\n",
       "      <th>expR</th>\n",
       "    </tr>\n",
       "    <tr>\n",
       "      <th>payoff</th>\n",
       "      <th></th>\n",
       "      <th></th>\n",
       "    </tr>\n",
       "  </thead>\n",
       "  <tbody>\n",
       "    <tr>\n",
       "      <th>-30</th>\n",
       "      <td>0.487072</td>\n",
       "      <td>-14.612175</td>\n",
       "    </tr>\n",
       "    <tr>\n",
       "      <th>5</th>\n",
       "      <td>0.443439</td>\n",
       "      <td>2.217195</td>\n",
       "    </tr>\n",
       "    <tr>\n",
       "      <th>10</th>\n",
       "      <td>0.027833</td>\n",
       "      <td>0.278327</td>\n",
       "    </tr>\n",
       "    <tr>\n",
       "      <th>15</th>\n",
       "      <td>0.027833</td>\n",
       "      <td>0.417491</td>\n",
       "    </tr>\n",
       "    <tr>\n",
       "      <th>40</th>\n",
       "      <td>0.009940</td>\n",
       "      <td>0.397610</td>\n",
       "    </tr>\n",
       "    <tr>\n",
       "      <th>60</th>\n",
       "      <td>0.000994</td>\n",
       "      <td>0.059642</td>\n",
       "    </tr>\n",
       "    <tr>\n",
       "      <th>100</th>\n",
       "      <td>0.001864</td>\n",
       "      <td>0.186380</td>\n",
       "    </tr>\n",
       "    <tr>\n",
       "      <th>120</th>\n",
       "      <td>0.000870</td>\n",
       "      <td>0.104373</td>\n",
       "    </tr>\n",
       "    <tr>\n",
       "      <th>300</th>\n",
       "      <td>0.000155</td>\n",
       "      <td>0.046595</td>\n",
       "    </tr>\n",
       "  </tbody>\n",
       "</table>\n",
       "</div>"
      ]
     },
     "metadata": {},
     "execution_count": 12
    }
   ],
   "metadata": {}
  },
  {
   "cell_type": "markdown",
   "source": [
    "## Expected rewards"
   ],
   "metadata": {}
  },
  {
   "cell_type": "code",
   "execution_count": 13,
   "source": [
    "probs_grouped.expR.sum() - 20/10"
   ],
   "outputs": [
    {
     "output_type": "execute_result",
     "data": {
      "text/plain": [
       "-12.904563198277021"
      ]
     },
     "metadata": {},
     "execution_count": 13
    }
   ],
   "metadata": {}
  },
  {
   "cell_type": "markdown",
   "source": [
    "As you can see, on average the player is lossing 12 dollars on every play. Clearly this game is a scam.\r\n",
    "\r\n",
    "This is because the player is having close to 49% of getting case `543` which corresponds to a punishment of $30.\r\n",
    "\r\n",
    "Although in some cases player may win more $100 - $300, but these are extremely rare cases.\r\n",
    "\r\n",
    "Without indepth calculation, the player may think that these event are equally likely to occure, but we have shown that this is far from being true.\r\n",
    "\r\n",
    "It is this huge difference in perception which makes this game a scam."
   ],
   "metadata": {}
  },
  {
   "cell_type": "markdown",
   "source": [
    "## Sum of all probabilities"
   ],
   "metadata": {}
  },
  {
   "cell_type": "code",
   "execution_count": 14,
   "source": [
    "sum(probs_grouped.prob)"
   ],
   "outputs": [
    {
     "output_type": "execute_result",
     "data": {
      "text/plain": [
       "0.9999999999999999"
      ]
     },
     "metadata": {},
     "execution_count": 14
    }
   ],
   "metadata": {}
  }
 ],
 "metadata": {
  "orig_nbformat": 4,
  "language_info": {
   "name": "python",
   "version": "3.8.8",
   "mimetype": "text/x-python",
   "codemirror_mode": {
    "name": "ipython",
    "version": 3
   },
   "pygments_lexer": "ipython3",
   "nbconvert_exporter": "python",
   "file_extension": ".py"
  },
  "kernelspec": {
   "name": "python3",
   "display_name": "Python 3.8.8 64-bit ('python388': conda)"
  },
  "interpreter": {
   "hash": "0ba3483a34865885a0972eccdeeaf9e87063fb0a49129f7cf0b171bb40b8e6cb"
  }
 },
 "nbformat": 4,
 "nbformat_minor": 2
}