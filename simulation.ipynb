{
 "cells": [
  {
   "cell_type": "markdown",
   "source": [
    "# Simulation"
   ],
   "metadata": {}
  },
  {
   "cell_type": "code",
   "execution_count": 1,
   "source": [
    "import random\r\n",
    "import pandas as pd\r\n",
    "from original import outcomes, cal_prob"
   ],
   "outputs": [],
   "metadata": {}
  },
  {
   "cell_type": "markdown",
   "source": [
    "## Simulation marble drawing game a million time and see the statistics"
   ],
   "metadata": {}
  },
  {
   "cell_type": "code",
   "execution_count": 2,
   "source": [
    "def play_game(n=12):\r\n",
    "    '''0 = red, 1 = green, 2 = blue'''\r\n",
    "    pool = [0]*8 +[1]*8 + [2]*8\r\n",
    "    random.shuffle(pool)\r\n",
    "    drawn = pool[:n]\r\n",
    "    des = sorted([drawn.count(c) for c in range(3)], reverse=True)\r\n",
    "    result = ''.join(map(str, des))\r\n",
    "    return result"
   ],
   "outputs": [],
   "metadata": {}
  },
  {
   "cell_type": "code",
   "execution_count": 3,
   "source": [
    "trials = [{'case': play_game()} for i in range(1_000_000)]\r\n",
    "result = pd.DataFrame(trials)"
   ],
   "outputs": [],
   "metadata": {}
  },
  {
   "cell_type": "code",
   "execution_count": 4,
   "source": [
    "df = pd.DataFrame(result.groupby('case').size(), columns=['count'])\r\n",
    "df['actual_probs'] = df['count'] / len(result)\r\n",
    "df['calculated_probs'] = df.index.map(lambda c: cal_prob(outcomes[c]).prob)"
   ],
   "outputs": [],
   "metadata": {}
  },
  {
   "cell_type": "markdown",
   "source": [
    "## Match statistics with calculated probabilities "
   ],
   "metadata": {}
  },
  {
   "cell_type": "code",
   "execution_count": 5,
   "source": [
    "df.sort_values(by='count', ascending=False)"
   ],
   "outputs": [
    {
     "output_type": "execute_result",
     "data": {
      "text/plain": [
       "       count  actual_probs  calculated_probs\n",
       "case                                        \n",
       "543   486962      0.486962          0.487072\n",
       "444   126418      0.126418          0.126842\n",
       "642   121786      0.121786          0.121768\n",
       "633    97660      0.097660          0.097414\n",
       "552    97352      0.097352          0.097414\n",
       "651    28059      0.028059          0.027833\n",
       "732    27918      0.027918          0.027833\n",
       "741     9959      0.009959          0.009940\n",
       "750     1020      0.001020          0.000994\n",
       "831      993      0.000993          0.000994\n",
       "822      865      0.000865          0.000870\n",
       "660      856      0.000856          0.000870\n",
       "840      152      0.000152          0.000155"
      ],
      "text/html": [
       "<div>\n",
       "<style scoped>\n",
       "    .dataframe tbody tr th:only-of-type {\n",
       "        vertical-align: middle;\n",
       "    }\n",
       "\n",
       "    .dataframe tbody tr th {\n",
       "        vertical-align: top;\n",
       "    }\n",
       "\n",
       "    .dataframe thead th {\n",
       "        text-align: right;\n",
       "    }\n",
       "</style>\n",
       "<table border=\"1\" class=\"dataframe\">\n",
       "  <thead>\n",
       "    <tr style=\"text-align: right;\">\n",
       "      <th></th>\n",
       "      <th>count</th>\n",
       "      <th>actual_probs</th>\n",
       "      <th>calculated_probs</th>\n",
       "    </tr>\n",
       "    <tr>\n",
       "      <th>case</th>\n",
       "      <th></th>\n",
       "      <th></th>\n",
       "      <th></th>\n",
       "    </tr>\n",
       "  </thead>\n",
       "  <tbody>\n",
       "    <tr>\n",
       "      <th>543</th>\n",
       "      <td>486962</td>\n",
       "      <td>0.486962</td>\n",
       "      <td>0.487072</td>\n",
       "    </tr>\n",
       "    <tr>\n",
       "      <th>444</th>\n",
       "      <td>126418</td>\n",
       "      <td>0.126418</td>\n",
       "      <td>0.126842</td>\n",
       "    </tr>\n",
       "    <tr>\n",
       "      <th>642</th>\n",
       "      <td>121786</td>\n",
       "      <td>0.121786</td>\n",
       "      <td>0.121768</td>\n",
       "    </tr>\n",
       "    <tr>\n",
       "      <th>633</th>\n",
       "      <td>97660</td>\n",
       "      <td>0.097660</td>\n",
       "      <td>0.097414</td>\n",
       "    </tr>\n",
       "    <tr>\n",
       "      <th>552</th>\n",
       "      <td>97352</td>\n",
       "      <td>0.097352</td>\n",
       "      <td>0.097414</td>\n",
       "    </tr>\n",
       "    <tr>\n",
       "      <th>651</th>\n",
       "      <td>28059</td>\n",
       "      <td>0.028059</td>\n",
       "      <td>0.027833</td>\n",
       "    </tr>\n",
       "    <tr>\n",
       "      <th>732</th>\n",
       "      <td>27918</td>\n",
       "      <td>0.027918</td>\n",
       "      <td>0.027833</td>\n",
       "    </tr>\n",
       "    <tr>\n",
       "      <th>741</th>\n",
       "      <td>9959</td>\n",
       "      <td>0.009959</td>\n",
       "      <td>0.009940</td>\n",
       "    </tr>\n",
       "    <tr>\n",
       "      <th>750</th>\n",
       "      <td>1020</td>\n",
       "      <td>0.001020</td>\n",
       "      <td>0.000994</td>\n",
       "    </tr>\n",
       "    <tr>\n",
       "      <th>831</th>\n",
       "      <td>993</td>\n",
       "      <td>0.000993</td>\n",
       "      <td>0.000994</td>\n",
       "    </tr>\n",
       "    <tr>\n",
       "      <th>822</th>\n",
       "      <td>865</td>\n",
       "      <td>0.000865</td>\n",
       "      <td>0.000870</td>\n",
       "    </tr>\n",
       "    <tr>\n",
       "      <th>660</th>\n",
       "      <td>856</td>\n",
       "      <td>0.000856</td>\n",
       "      <td>0.000870</td>\n",
       "    </tr>\n",
       "    <tr>\n",
       "      <th>840</th>\n",
       "      <td>152</td>\n",
       "      <td>0.000152</td>\n",
       "      <td>0.000155</td>\n",
       "    </tr>\n",
       "  </tbody>\n",
       "</table>\n",
       "</div>"
      ]
     },
     "metadata": {},
     "execution_count": 5
    }
   ],
   "metadata": {}
  },
  {
   "cell_type": "markdown",
   "source": [
    "After a million simulated game play, the actual probabilities closely matched the calculated probabilities.\r\n",
    "\r\n",
    "This proved that the calculated probabilities are correct."
   ],
   "metadata": {}
  }
 ],
 "metadata": {
  "orig_nbformat": 4,
  "language_info": {
   "name": "python",
   "version": "3.8.8",
   "mimetype": "text/x-python",
   "codemirror_mode": {
    "name": "ipython",
    "version": 3
   },
   "pygments_lexer": "ipython3",
   "nbconvert_exporter": "python",
   "file_extension": ".py"
  },
  "kernelspec": {
   "name": "python3",
   "display_name": "Python 3.8.8 64-bit ('python388': conda)"
  },
  "interpreter": {
   "hash": "0ba3483a34865885a0972eccdeeaf9e87063fb0a49129f7cf0b171bb40b8e6cb"
  }
 },
 "nbformat": 4,
 "nbformat_minor": 2
}